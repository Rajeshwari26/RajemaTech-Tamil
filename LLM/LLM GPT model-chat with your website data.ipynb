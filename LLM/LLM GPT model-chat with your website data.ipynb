{
 "cells": [
  {
   "cell_type": "code",
   "execution_count": 1,
   "id": "0485a96f",
   "metadata": {},
   "outputs": [],
   "source": [
    "from langchain.document_loaders import OnlinePDFLoader\n",
    "from langchain.document_loaders import UnstructuredWordDocumentLoader\n",
    "from langchain.document_loaders import SeleniumURLLoader,WebBaseLoader\n",
    "from langchain.embeddings import OpenAIEmbeddings\n",
    "from langchain.vectorstores import OpenSearchVectorSearch\n",
    "from langchain.chains import ConversationalRetrievalChain\n",
    "from langchain.chains.qa_with_sources import load_qa_with_sources_chain\n",
    "from langchain.chains.llm import LLMChain\n",
    "from langchain.chains.conversational_retrieval.prompts import CONDENSE_QUESTION_PROMPT\n",
    "from langchain.prompts import PromptTemplate\n",
    "from langchain.llms import OpenAI"
   ]
  },
  {
   "cell_type": "code",
   "execution_count": 2,
   "id": "d04c08a6",
   "metadata": {},
   "outputs": [],
   "source": [
    "urls=['https://www.shaip.com/blog/what-is-nlp-how-it-works-benefits-challenges-examples/']\n"
   ]
  },
  {
   "cell_type": "code",
   "execution_count": 3,
   "id": "887f0b7b",
   "metadata": {},
   "outputs": [],
   "source": [
    "# loader = SeleniumURLLoader(urls=urls)\n",
    "loader=WebBaseLoader(urls)"
   ]
  },
  {
   "cell_type": "code",
   "execution_count": 5,
   "id": "4f20b5c1",
   "metadata": {
    "scrolled": true
   },
   "outputs": [],
   "source": [
    "\n",
    "# split the data into chucks\n",
    "data = loader.load_and_split()\n"
   ]
  },
  {
   "cell_type": "code",
   "execution_count": 6,
   "id": "baa9d662",
   "metadata": {},
   "outputs": [
    {
     "data": {
      "text/plain": [
       "[Document(page_content='What is NLP? How it Works, Benefits, Challenges, Examples | Shaip\\n\\n\\n\\n\\n\\n\\n\\n\\n\\n\\n\\n\\n\\n\\n\\n\\n\\n\\n\\n\\n\\n\\n\\n\\n\\n\\n\\n\\n\\n\\n\\n\\n\\n\\n\\n\\n\\n\\n\\n\\n\\n\\n\\n\\n\\n\\n   \\n\\n\\n\\n\\n\\n\\n\\n\\n\\n\\n\\n\\n\\n\\n\\n\\n\\n\\n\\n\\n\\n\\n\\n\\n\\n\\n\\n\\n\\n\\n \\n \\n\\n\\n\\n\\n\\n\\n\\n\\n\\n\\n\\n\\nWhat We Do\\n\\n\\n\\n\\n\\n  \\n\\n\\n\\n\\n\\n\\nWhat we do best \\n\\n\\n\\n\\n\\n\\n\\n Speciality Conversational AI Localize AI-enabled speech models with rich structured multi-lingual datasets.Generative AI Harness the power to transform complex data into actionable insight.Computer Vision Train ML models with best-in-class AI data to make sense of the visual world. \\n\\n\\n\\n\\n\\n\\n\\nAI Data ServicesData Collection Create & collect audio, images, text & video from across the globe.Data Annotation & Labeling Accurately annotate data to make AI & ML think faster & smarter.Data Transcription AI-driven, cloud-based transcription supporting 150+ languages. \\n\\n\\n\\n\\n\\n\\n\\n\\n \\n\\n\\n\\n\\nBuyer’s Guide: Data Annotation / Labeling \\n\\n\\n\\n\\n\\n\\n\\n\\n \\n\\n\\n\\n\\nBuyer’s Guide: ConversationalAI \\n\\n\\n\\n\\n\\n\\n\\n\\n\\n\\n\\n \\n \\n\\nOff-the-shelf Data\\n\\n\\n\\n\\n\\n  \\n\\n\\n\\n\\n\\n\\nOff-the-shelf Data Catalog & Licensing \\n\\n\\n\\n\\n\\n\\n\\nMedical DatasetsGold standard, high-quality, de-identified healthcare data.Physician Dictation DatasetsTranscribed Medical RecordsElectronic Health Records (EHR)CT Scan Images DatasetsX-Ray Images DatasetsView All \\n\\n\\n\\n\\n\\n\\n\\nSpeech/Audio DatasetsSource, transcribed & annotated speech data in over 50 languages.New York English DatasetChinese Traditional DatasetSpanish (Mexico) DatasetCanadian French DatasetArabic DatasetView All \\n\\n\\n\\n\\n\\n\\n\\nComputer Vision DatasetsImage and Video datasets to accelerate ML development.Bank Statement DatasetDamaged Car Image DatasetFacial Recognition DatasetsLandmark Image DatasetPay Slips DatasetView All \\n\\n\\n\\n\\n\\n\\n\\n\\n\\n\\n\\n \\n \\n\\nSolutions\\n\\n\\n\\n\\n\\n  \\n\\n\\n\\n\\n\\n\\nSolutions \\n\\n\\n\\n\\n\\n\\n\\nIndustryBanking & Finance Improve ML models to create a secure user experience.Automotive  Highly accurate training & validation data for Autonomous Vehicles. Retail  Train your AI model with the most contextual & relevant Training Data.View All \\n\\n\\n\\n\\n\\n\\n\\nUse CasesSentiment Analysis Services Analyze emotions and sentiments in customer reviews, financial news, & social media.Facial Recognition Auto-detect one or more human faces based on facial landmarks. Vehicle Damage Assessment  Identify & recognize extent of damage to predict & estimate cost.View All \\n\\n\\n\\n\\n\\n\\n\\nUse CasesNatural Language Processing Understand the Intent or emotion behind the human conversation.Content Moderation Services Power Artificial Intelligence with data-driven content moderation & enjoy improved trust & brand reputation. Optical Character Recognition (OCR) Optimize data digitization with high-quality OCR training data.View All \\n\\n\\n\\n\\n\\n\\n\\n\\n\\n\\n\\n \\n \\n\\nHealthcare\\n\\n\\n\\n\\n\\n  \\n\\n\\n\\n\\n\\n\\nAI innovation in Healthcare \\n\\n\\n\\n\\n\\n\\n\\nProductsHealthcare AI \\n\\n\\n\\nServicesMedical Annotation \\n\\n\\n\\n\\n\\n\\n\\nSolutionsData De-identification Clinical Data CodificationClinical NERGenerative AIOff-the-Shelf Datasets \\n\\n\\n\\n\\n\\n\\n\\nResourcesBlogsCase Study \\n\\n\\n\\n\\n\\n\\n\\n\\n\\n\\n\\n \\n \\n\\nPlatformResources\\n\\nCase StudyBlogsBuyer’s GuideInfographicsIn The MediaSample Datasets\\nCompany\\n\\nAboutLeadershipEvents & WebinarCareersJoin Our CrowdPress RoomPartnersSecurity & Compliance\\n \\n\\n\\n\\n\\n\\n\\n\\n\\n\\n\\n Search\\n\\n\\nSearch\\n\\n\\n Close this search box.\\n\\n\\n\\n\\n\\n\\n\\n\\n\\n\\n\\nContact Us\\n\\n\\n\\n\\n\\n\\n\\n\\n\\n\\n\\n\\n\\n\\n\\n\\n \\n\\n\\n\\n\\n\\n\\n\\n\\n\\n\\n\\nContact Us\\n\\n\\n\\n\\n\\n\\n\\n\\n\\n\\n\\n\\n Menu\\n\\n\\nWhat We Do\\n\\nAI Data Services\\n\\nData Collection\\nData Annotation & Labeling\\nData Transcription\\n\\n\\nSpeciality\\n\\nConversational AI\\nGenerative AI\\nLarge Language Models Service\\nView All\\n\\n\\n\\n\\nOff-the-shelf Data\\n\\nSpeech Data Catalog\\nComputer Vision Data Catalog\\n\\n\\nSolutions\\n\\nIndustry\\n\\nBanking & Finance\\nAutomotive\\nRetail\\nView All\\n\\n\\nUse Cases\\n\\nSentiment Analysis Services\\nFacial Recognition\\nVehicle Damage Assessment\\nNatural Language Processing Services\\nOptical Character Recognition (OCR)\\nComputer Vision\\nView All\\n\\n\\n\\n\\nHealthcare AI\\n\\nData De-Identification\\nClinical NER\\nClinical Data Codification\\nMedical Data Annotation\\nMedical Data Catalog\\n\\n\\nPlatform\\nResources\\n\\nCase Study\\nBuyer’s Guide\\nInfographics\\nSample Datasets\\nIn The Media\\nBlogs\\n\\n\\nCompany', metadata={'source': 'https://www.shaip.com/blog/what-is-nlp-how-it-works-benefits-challenges-examples/', 'title': 'What is NLP? How it Works, Benefits, Challenges, Examples | Shaip', 'description': 'Natural Language Processing (NLP) is a subfield of artificial intelligence (AI). It enables robots to analyze and comprehend human language, enabling them to carry out repetitive activities without human intervention. Examples include machine translation, summarization, ticket classification, and spell check.', 'language': 'en-US'}),\n",
       " Document(page_content=\"Platform\\nResources\\n\\nCase Study\\nBuyer’s Guide\\nInfographics\\nSample Datasets\\nIn The Media\\nBlogs\\n\\n\\nCompany\\n\\nAbout Us\\nLeadership\\nEvents & Webinar\\nSecurity and Compliance\\nCrowd Wellness\\nJoin Our Crowd\\nPress Room\\nPartners\\nCareers\\n\\n\\nContact\\n \\n\\n\\n\\n\\n\\n\\n\\n\\n\\n\\n\\n\\n\\n\\n \\n\\n\\n\\n\\n\\n\\n\\n\\n\\n\\n\\t\\t\\t\\t\\t\\t\\t\\t\\t\\tOctober 27, 2022\\t\\t\\t\\t\\t\\n\\n\\n\\n\\n\\n\\nWhat is NLP? How it Works, Benefits, Challenges, Examples \\n\\n\\n\\n\\n\\n\\n\\n\\n\\n\\n\\n\\n\\n\\n\\n\\n\\n\\n\\n\\n\\n\\n\\n\\n\\nDownload Infographics\\n\\n\\n\\n\\n\\n\\n\\n\\n\\n\\n\\n\\n\\n\\n\\nWhat is NLP?Natural Language Processing (NLP) is a subfield of artificial intelligence (AI). It enables robots to analyze and comprehend human language, enabling them to carry out repetitive activities without human intervention. Examples include machine translation, summarization, ticket classification, and spell check.\\nNatural language processing (NLP) is the ability of a computer to analyze and understand human language. NLP is a subset of artificial intelligence focused on human language and is closely related to computational linguistics, which focuses more on statistical and formal approaches to understanding language.\\nNLP is typically used for document summarization, text classification, topic detection and tracking, machine translation, speech recognition, and much more. \\n \\n\\n\\n\\n\\n\\n\\n\\n\\n\\n\\n\\nHow NLP Works?NLP systems use machine learning algorithms to analyze large amounts of unstructured data and extract relevant information. The algorithms are trained to recognize patterns and make inferences based on those patterns. Here's how it works:\\n\\nThe user must input a sentence into the Natural Language Processing (NLP) system.\\nThe NLP system then breaks down the sentence into smaller parts of words, called tokens, and converts audio to text.\\nThen, the machine processes the text data and creates an audio file based on the processed data. \\nThe machine responds with an audio file based on processed text data. \\n \\n\\n\\n\\n\\n\\n\\n\\n\\n\\n\\n\\nNLP Market Size & GrowthArtificial intelligence stands to be the next big thing in the tech world. With its ability to understand human behavior and act accordingly, AI has already become an integral part of our daily lives. The use of AI has evolved, with the latest wave being natural language processing (NLP).\\nThe global NLP market size is valued at USD 15.7 billion in 2022 and is expected to grow at a CAGR of more than 25% over the forecast period 2022-2027. The market is projected to reach 49.4 billion USD by 2027 at a CAGR of 25.7%.\", metadata={'source': 'https://www.shaip.com/blog/what-is-nlp-how-it-works-benefits-challenges-examples/', 'title': 'What is NLP? How it Works, Benefits, Challenges, Examples | Shaip', 'description': 'Natural Language Processing (NLP) is a subfield of artificial intelligence (AI). It enables robots to analyze and comprehend human language, enabling them to carry out repetitive activities without human intervention. Examples include machine translation, summarization, ticket classification, and spell check.', 'language': 'en-US'}),\n",
       " Document(page_content='Benefits of NLPIncreased documentation efficiency & accuracyAn NLP-generated document accurately summarizes any original text that humans can’t automatically generate. Also, it can carry out repetitive tasks such as analyzing large chunks of data to improve human efficiency.Capability to automatically create a summary of large & complex textual contentNatural processing language can be used for simple text mining tasks such as extracting facts from documents, analyzing sentiment, or identifying named entities. Natural processing can also be used for more complex tasks, such as understanding human behaviors and emotions.Enables personal assistants like Alexa to interpret spoken wordsNLP is useful for personal assistants such as Alexa, enabling the virtual assistant to understand spoken word commands. It also helps to quickly find relevant information from databases containing millions of documents in seconds.Enables the usage of chatbots for customer assistanceNLP can be used in chatbots and computer programs that use artificial intelligence to communicate with people through text or voice. The chatbot uses NLP to understand what the person is typing and respond appropriately. They also enable an organization to provide 24/7 customer support across multiple channels.Performing sentiment analysis is simplerSentiment Analysis is a process that involves analyzing a set of documents (such as reviews or tweets) concerning their attitude or emotional state (e.g., joy, anger). Sentiment analysis can be used for categorizing and classifying social media posts or other text into several categories: positive, negative, or neutral.Advanced analytics insights that were previously out of reachThe recent proliferation of sensors and Internet-connected devices has led to an explosion in the volume and variety of data generated. As a result, many organizations leverage NLP to make sense of their data to drive better business decisions. \\n\\n\\n\\n\\n\\n\\n\\n\\n\\n\\n\\n \\n\\n\\n\\nChallenges with NLPMisspellingsNatural languages are full of misspellings, typos, and inconsistencies in style. For example, the word “process” can be spelled as either “process” or “processing.” The problem is compounded when you add accents or other characters that are not in your dictionary.Language DifferencesAn English speaker might say, “I’m going to work tomorrow morning,” while an Italian speaker would say, “Domani Mattina vado al lavoro.” Even though these two sentences mean the same thing, NLP won’t understand the latter unless you translate it into English first.Innate BiasesNatural processing languages are based on human logic and data sets. In some situations, NLP systems may carry out the biases of their programmers or the data sets they use. It can also sometimes interpret the context differently due to innate biases, leading to inaccurate results.Words with Multiple MeaningsNLP is based on the assumption that language is precise and unambiguous. In reality, language is neither precise nor unambiguous. Many words have multiple meanings and can be used in different ways. For example, when we say “bark,” it can either be dog bark or tree bark.Uncertainty and False PositivesFalse positives occur when the NLP detects a term that should be understandable but can’t be replied to properly. The goal is to create an NLP system that can identify its limitations and clear up confusion by using questions or hints.Training DataOne of the biggest challenges with natural processing language is inaccurate training data. The more training data you have, the better your results will be. If you give the system incorrect or biased data, it will either learn the wrong things or learn inefficiently.', metadata={'source': 'https://www.shaip.com/blog/what-is-nlp-how-it-works-benefits-challenges-examples/', 'title': 'What is NLP? How it Works, Benefits, Challenges, Examples | Shaip', 'description': 'Natural Language Processing (NLP) is a subfield of artificial intelligence (AI). It enables robots to analyze and comprehend human language, enabling them to carry out repetitive activities without human intervention. Examples include machine translation, summarization, ticket classification, and spell check.', 'language': 'en-US'}),\n",
       " Document(page_content='NLP ExampleNatural Language translation i.e.,\\xa0 Google TranslateGoogle Translate is a free web-based translation service that supports over 100 languages and can translate your content automatically into these languages. The service has two modes: translation and translation suggestions.Word Processors i.e., MS Word & Grammarly use NLP to check grammatical errorsWord processors like MS Word and Grammarly use NLP to check text for grammatical errors. They do this by looking at the context of your sentence instead of just the words themselves.Speech recognition / IVR systems used in call centersSpeech recognition is an excellent example of how NLP can be used to improve the customer experience. It is a very common requirement for businesses to have IVR systems in place so that customers can interact with their products and services without having to speak to a live person. This allows them to handle more calls but also helps cut costs.Personal Digital Assistants i.e., Google Home, Siri, Cortana, & AlexaThe use of NLP has become more prevalent in recent years as technology has advanced. Personal Digital Assistant applications such as Google Home, Siri, Cortana, and Alexa have all been updated with NLP capabilities. These devices use NLP to understand human speech and respond appropriately.', metadata={'source': 'https://www.shaip.com/blog/what-is-nlp-how-it-works-benefits-challenges-examples/', 'title': 'What is NLP? How it Works, Benefits, Challenges, Examples | Shaip', 'description': 'Natural Language Processing (NLP) is a subfield of artificial intelligence (AI). It enables robots to analyze and comprehend human language, enabling them to carry out repetitive activities without human intervention. Examples include machine translation, summarization, ticket classification, and spell check.', 'language': 'en-US'}),\n",
       " Document(page_content='Use CasesIntelligent document processingThis use case involves extracting information from unstructured data, such as text and images. NLP can be used to identify the most relevant parts of those documents and present them in an organized manner.Sentiment AnalysisSentiment analysis is another way companies could use NLP in their operations. The software would analyze social media posts about a business or product to determine whether people think positively or negatively about it.Fraud detectionNLP can also be used for fraud detection by analyzing unstructured data like emails, phone calls, etc., and insurance databases to identify patterns or fraudulent activities based on keywords.Language detectionNLP is used for detecting the language of text documents or tweets. This could be useful for content moderation and content translation companies.Conversational AI / ChatbotA conversational AI (often called a chatbot) is an application that understands natural language input, either spoken or written, and performs a specified action. A conversational interface can be used for customer service, sales, or entertainment purposes.Text summarizationAn NLP system can be trained to summarize the text more readably than the original text. This is useful for articles and other lengthy texts where users may not want to spend time reading the entire article or document.Text TranslationNLP is used for automatically translating text from one language into another using deep learning methods like recurrent neural networks or convolutional neural networks.Question-AnsweringQuestion answering (QA) is a task in natural language processing (NLP) that receives a question as input and returns its answer. The simplest form of question answering is to find a matching entry in the knowledge base and return its contents, known as “document retrieval” or “information retrieval.”Named Entity RecognitionNamed entity recognition is a core capability in Natural Language Processing (NLP). It’s a process of extracting named entities from unstructured text into predefined categories. Examples of named entities include people, organizations, and locations.Social Media MonitoringSocial media monitoring tools can use NLP techniques to extract mentions of a brand, product, or service from social media posts. Once detected, these mentions can be analyzed for sentiment, engagement, and other metrics. This information can then inform marketing strategies or evaluate their effectiveness.Predictive TextThe predictive text uses NLP to predict what word users will type next based on what they have typed in their message. This reduces the number of keystrokes needed for users to complete their messages and improves their user experience by increasing the speed at which they can type and send messages. \\n\\n\\n\\n\\n\\n\\n\\n\\n\\n\\n\\n\\n\\n\\nDownload Infographics\\n\\n\\n\\n\\n\\n\\n\\n\\n\\n\\n\\n\\n\\n\\n\\n\\nPrevOlder Stories \\n\\nNewer StoriesNext \\n\\n\\n\\n\\n\\nSocial Share \\n\\n\\n\\n\\n\\n\\n\\n \\n\\n\\n\\n\\n\\n \\n\\n\\n\\n\\n\\n \\n\\n\\n\\n\\n\\n \\n\\n\\n\\n\\n\\n \\n\\n\\n\\n\\n\\n \\n\\n\\n\\n\\n\\n\\n\\n\\n\\n\\n\\n\\n\\n\\n\\n\\n\\n\\n\\nTalk to an Expert\\n\\nFirst Name* Last Name* Email*\\n\\nPhone*Company* Country*\\n\\n\\nSelect CountryAfghanistanArgentinaAustraliaAustriaBahamasBahrainBangladeshBelarusBelgiumBhutanBoliviaBotswanaBrazilBrunei DarussalamBulgariaCambodiaCanadaChileChinaColombiaCongo, Democratic Republic of theCroatiaCzech RepublicDenmarkDominican RepublicEgyptEstoniaEthiopiaFinlandFranceGeorgiaGermanyGhanaGreeceHong KongHungaryIcelandIndiaIndonesiaIranIraqIrelandIsraelItalyJamaicaJapanJordanKenyaKuwaitLebanonLesothoLiberiaLibyaMadagascarMalawiMalaysiaMaldivesMauritiusMexicoMongoliaMoroccoMozambiqueMyanmarNepalNetherlandsNew ZealandNigeriaNorth KoreaNorwayOmanPakistanParaguayPhilippinesPolandPortugalQatarRomaniaRussiaSaudi ArabiaSingaporeSlovakiaSomaliaSouth AfricaSouth KoreaSpainSri LankaSwedenSwitzerlandTaiwanTanzaniaThailandTurkeyUgandaUkraineUnited Arab EmiratesUnited KingdomUnited StatesVenezuelaVietnamYemenZambiaZimbabweOther\\nCountry', metadata={'source': 'https://www.shaip.com/blog/what-is-nlp-how-it-works-benefits-challenges-examples/', 'title': 'What is NLP? How it Works, Benefits, Challenges, Examples | Shaip', 'description': 'Natural Language Processing (NLP) is a subfield of artificial intelligence (AI). It enables robots to analyze and comprehend human language, enabling them to carry out repetitive activities without human intervention. Examples include machine translation, summarization, ticket classification, and spell check.', 'language': 'en-US'}),\n",
       " Document(page_content='Comments*By registering, I agree with Shaip Privacy Policy and Terms of Service and provide my consent to receive B2B marketing communication from Shaip.CAPTCHA\\n  \\n\\n\\n\\n\\n\\n\\n\\n\\n\\n\\n\\n\\n\\n\\n\\n\\nDownload Free Book \\n\\n\\n\\n\\n\\n\\n\\n \\n\\n \\n\\n \\n\\n \\n\\n \\n\\n \\n\\n \\n\\n \\n\\n \\n\\n \\n\\n \\n\\n \\n\\n\\n\\n\\n\\n\\n\\n\\n\\n\\n\\n\\n\\n\\n\\n\\n\\n\\n\\n\\nYou May Also Like \\n\\n\\n\\n\\n\\n\\n\\n\\n\\n\\n\\n\\t\\t\\t\\tThe Role Of Natural Language Processing (NLP) In Oncology\\t\\t\\t\\n\\n\\n\\n\\n\\n\\n\\n\\n\\n\\n\\t\\t\\t\\tUnstructured Text in Data Mining: Unlocking Insights in Document Processing\\t\\t\\t\\n\\n\\n\\n\\n\\n\\n\\n\\n\\n\\n\\t\\t\\t\\tWhat are NLP, NLU, and NLG, and Why should you know about them and their differences?\\t\\t\\t\\n\\n\\n\\n\\n\\n\\n\\n\\n\\n\\n\\n\\n\\n\\n\\n\\n\\n\\nAI Data ServicesData Annotation\\nData Collection\\nData De-Identification\\n \\n\\n\\n\\nSpecialityNLP\\nComputer Vision\\nConversational AI\\n \\n\\n\\n\\n\\n\\n\\n\\nIndustryAutomotive AI\\nBanking & Finance\\nRetail\\n \\n\\n\\n\\nProductsHealthcare AI\\nShaipCloud™ Platform\\n \\n\\n\\n\\n\\n\\n\\n\\nCompanyAbout\\nLeadership\\nCompliance\\nCSR\\nPress Room\\n \\n\\n\\n\\n\\n\\n\\n\\nResourcesCase Study\\nBuyer’s Guide\\nMedia\\nInfographics\\nBlogs\\nSample Datasets\\n \\n\\n\\n\\n\\n\\n\\n\\nContact Us (US): (866) 473-5655\\nmarketing@shaip.com\\nvendors@shaip.com\\ncareer@shaip.com\\nVendor Enrollment Form\\n\\n\\n\\n\\n\\n \\n\\n\\nLinkedIn Icon\\n \\n\\n\\n\\n\\n       \\n\\n\\n\\nFacebook Icon\\n \\n\\n\\n\\nYoutube\\n \\n\\n\\n\\n\\n\\n\\n\\n\\n\\n\\n \\n\\n\\n\\n\\n\\n\\n\\n\\n\\n\\n\\n\\n\\n\\n\\n\\n© 2018 – 2023 Shaip | All Rights Reserved\\n\\n\\n\\n\\n\\n\\n\\n\\n\\n\\nPrivacy Policy\\nCookie Policy\\nTerms of Service\\nDisclaimer\\n \\n\\nPrivacy Policy\\nCookie Policy\\nTerms of Service\\nDisclaimer\\n \\n\\n\\n\\n\\n\\n\\n\\n\\n\\n\\n\\n\\nManage Cookie Consent\\n\\n\\n\\n\\n\\n\\nTo provide the best experiences, we use technologies like cookies to store and/or access device information. Consenting to these technologies will allow us to process data such as browsing behavior or unique IDs on this site. Not consenting or withdrawing consent, may adversely affect certain features and functions.\\n\\n\\n\\n\\n\\nFunctional\\n\\n\\n\\nFunctional\\n\\n\\t\\t\\t\\t\\t\\t\\t\\tAlways active\\t\\t\\t\\t\\t\\t\\t\\n\\n\\n\\n\\n\\n\\nThe technical storage or access is strictly necessary for the legitimate purpose of enabling the use of a specific service explicitly requested by the subscriber or user, or for the sole purpose of carrying out the transmission of a communication over an electronic communications network.\\n\\n\\n\\n\\n\\nPreferences\\n\\n\\nPreferences\\n\\n\\n\\n\\n\\n\\n\\nThe technical storage or access is necessary for the legitimate purpose of storing preferences that are not requested by the subscriber or user.\\n\\n\\n\\n\\n\\nStatistics\\n\\n\\nStatistics\\n\\n\\n\\n\\n\\n\\n\\nThe technical storage or access that is used exclusively for statistical purposes.\\nThe technical storage or access that is used exclusively for anonymous statistical purposes. Without a subpoena, voluntary compliance on the part of your Internet Service Provider, or additional records from a third party, information stored or retrieved for this purpose alone cannot usually be used to identify you.\\n\\n\\n\\n\\n\\nMarketing\\n\\n\\nMarketing\\n\\n\\n\\n\\n\\n\\n\\nThe technical storage or access is required to create user profiles to send advertising, or to track the user on a website or across several websites for similar marketing purposes.\\n\\n\\n\\n\\n\\nManage options\\nManage services\\nManage {vendor_count} vendors\\nRead more about these purposes\\n\\n\\n\\nAccept\\nDeny\\nView preferences\\nSave preferences\\nView preferences\\n\\n\\n{title}\\n{title}\\n{title}\\n\\n\\n\\n\\n\\nManage Cookie Consent\\n\\n\\n\\n\\n\\n\\nTo provide the best experiences, we use technologies like cookies to store and/or access device information. Consenting to these technologies will allow us to process data such as browsing behavior or unique IDs on this site. Not consenting or withdrawing consent, may adversely affect certain features and functions.\\n\\n\\n\\n\\n\\nFunctional\\n\\n\\n\\nFunctional\\n\\n\\t\\t\\t\\t\\t\\t\\t\\tAlways active\\t\\t\\t\\t\\t\\t\\t\\n\\n\\n\\n\\n\\n\\nThe technical storage or access is strictly necessary for the legitimate purpose of enabling the use of a specific service explicitly requested by the subscriber or user, or for the sole purpose of carrying out the transmission of a communication over an electronic communications network.\\n\\n\\n\\n\\n\\nPreferences\\n\\n\\nPreferences\\n\\n\\n\\n\\n\\n\\n\\nThe technical storage or access is necessary for the legitimate purpose of storing preferences that are not requested by the subscriber or user.\\n\\n\\n\\n\\n\\nStatistics\\n\\n\\nStatistics', metadata={'source': 'https://www.shaip.com/blog/what-is-nlp-how-it-works-benefits-challenges-examples/', 'title': 'What is NLP? How it Works, Benefits, Challenges, Examples | Shaip', 'description': 'Natural Language Processing (NLP) is a subfield of artificial intelligence (AI). It enables robots to analyze and comprehend human language, enabling them to carry out repetitive activities without human intervention. Examples include machine translation, summarization, ticket classification, and spell check.', 'language': 'en-US'}),\n",
       " Document(page_content='Preferences\\n\\n\\n\\n\\n\\n\\n\\nThe technical storage or access is necessary for the legitimate purpose of storing preferences that are not requested by the subscriber or user.\\n\\n\\n\\n\\n\\nStatistics\\n\\n\\nStatistics\\n\\n\\n\\n\\n\\n\\n\\nThe technical storage or access that is used exclusively for statistical purposes.\\nThe technical storage or access that is used exclusively for anonymous statistical purposes. Without a subpoena, voluntary compliance on the part of your Internet Service Provider, or additional records from a third party, information stored or retrieved for this purpose alone cannot usually be used to identify you.\\n\\n\\n\\n\\n\\nMarketing\\n\\n\\nMarketing\\n\\n\\n\\n\\n\\n\\n\\nThe technical storage or access is required to create user profiles to send advertising, or to track the user on a website or across several websites for similar marketing purposes.\\n\\n\\n\\n\\n\\nManage options\\nManage services\\nManage {vendor_count} vendors\\nRead more about these purposes\\n\\n\\n\\nAccept\\nDeny\\nView preferences\\nSave preferences\\nView preferences\\n\\n\\n{title}\\n{title}\\n{title}\\n\\n\\n\\nManage consent\\nManage consent', metadata={'source': 'https://www.shaip.com/blog/what-is-nlp-how-it-works-benefits-challenges-examples/', 'title': 'What is NLP? How it Works, Benefits, Challenges, Examples | Shaip', 'description': 'Natural Language Processing (NLP) is a subfield of artificial intelligence (AI). It enables robots to analyze and comprehend human language, enabling them to carry out repetitive activities without human intervention. Examples include machine translation, summarization, ticket classification, and spell check.', 'language': 'en-US'})]"
      ]
     },
     "execution_count": 6,
     "metadata": {},
     "output_type": "execute_result"
    }
   ],
   "source": [
    "data"
   ]
  },
  {
   "cell_type": "code",
   "execution_count": 7,
   "id": "665d0d1f",
   "metadata": {},
   "outputs": [],
   "source": [
    "# Additional processing on the data, if needed\n",
    "for item in data:\n",
    "    item.metadata['source'] = item.metadata['source']\n",
    "    item.page_content = item.page_content.replace(\"\\n\", \" \").replace(\"\\t\", \" \")\n"
   ]
  },
  {
   "cell_type": "code",
   "execution_count": 8,
   "id": "b554ee39",
   "metadata": {},
   "outputs": [
    {
     "data": {
      "text/plain": [
       "[Document(page_content='What is NLP? How it Works, Benefits, Challenges, Examples | Shaip                                                                                                 What We Do               What we do best          Speciality Conversational AI Localize AI-enabled speech models with rich structured multi-lingual datasets.Generative AI Harness the power to transform complex data into actionable insight.Computer Vision Train ML models with best-in-class AI data to make sense of the visual world.         AI Data ServicesData Collection Create & collect audio, images, text & video from across the globe.Data Annotation & Labeling Accurately annotate data to make AI & ML think faster & smarter.Data Transcription AI-driven, cloud-based transcription supporting 150+ languages.                Buyer’s Guide: Data Annotation / Labeling                Buyer’s Guide: ConversationalAI                  Off-the-shelf Data               Off-the-shelf Data Catalog & Licensing         Medical DatasetsGold standard, high-quality, de-identified healthcare data.Physician Dictation DatasetsTranscribed Medical RecordsElectronic Health Records (EHR)CT Scan Images DatasetsX-Ray Images DatasetsView All         Speech/Audio DatasetsSource, transcribed & annotated speech data in over 50 languages.New York English DatasetChinese Traditional DatasetSpanish (Mexico) DatasetCanadian French DatasetArabic DatasetView All         Computer Vision DatasetsImage and Video datasets to accelerate ML development.Bank Statement DatasetDamaged Car Image DatasetFacial Recognition DatasetsLandmark Image DatasetPay Slips DatasetView All                  Solutions               Solutions         IndustryBanking & Finance Improve ML models to create a secure user experience.Automotive  Highly accurate training & validation data for Autonomous Vehicles. Retail  Train your AI model with the most contextual & relevant Training Data.View All         Use CasesSentiment Analysis Services Analyze emotions and sentiments in customer reviews, financial news, & social media.Facial Recognition Auto-detect one or more human faces based on facial landmarks. Vehicle Damage Assessment  Identify & recognize extent of damage to predict & estimate cost.View All         Use CasesNatural Language Processing Understand the Intent or emotion behind the human conversation.Content Moderation Services Power Artificial Intelligence with data-driven content moderation & enjoy improved trust & brand reputation. Optical Character Recognition (OCR) Optimize data digitization with high-quality OCR training data.View All                  Healthcare               AI innovation in Healthcare         ProductsHealthcare AI     ServicesMedical Annotation         SolutionsData De-identification Clinical Data CodificationClinical NERGenerative AIOff-the-Shelf Datasets         ResourcesBlogsCase Study                  PlatformResources  Case StudyBlogsBuyer’s GuideInfographicsIn The MediaSample Datasets Company  AboutLeadershipEvents & WebinarCareersJoin Our CrowdPress RoomPartnersSecurity & Compliance              Search   Search    Close this search box.            Contact Us                              Contact Us              Menu   What We Do  AI Data Services  Data Collection Data Annotation & Labeling Data Transcription   Speciality  Conversational AI Generative AI Large Language Models Service View All     Off-the-shelf Data  Speech Data Catalog Computer Vision Data Catalog   Solutions  Industry  Banking & Finance Automotive Retail View All   Use Cases  Sentiment Analysis Services Facial Recognition Vehicle Damage Assessment Natural Language Processing Services Optical Character Recognition (OCR) Computer Vision View All     Healthcare AI  Data De-Identification Clinical NER Clinical Data Codification Medical Data Annotation Medical Data Catalog   Platform Resources  Case Study Buyer’s Guide Infographics Sample Datasets In The Media Blogs   Company', metadata={'source': 'https://www.shaip.com/blog/what-is-nlp-how-it-works-benefits-challenges-examples/', 'title': 'What is NLP? How it Works, Benefits, Challenges, Examples | Shaip', 'description': 'Natural Language Processing (NLP) is a subfield of artificial intelligence (AI). It enables robots to analyze and comprehend human language, enabling them to carry out repetitive activities without human intervention. Examples include machine translation, summarization, ticket classification, and spell check.', 'language': 'en-US'}),\n",
       " Document(page_content=\"Platform Resources  Case Study Buyer’s Guide Infographics Sample Datasets In The Media Blogs   Company  About Us Leadership Events & Webinar Security and Compliance Crowd Wellness Join Our Crowd Press Room Partners Careers   Contact                                       October 27, 2022            What is NLP? How it Works, Benefits, Challenges, Examples                           Download Infographics                What is NLP?Natural Language Processing (NLP) is a subfield of artificial intelligence (AI). It enables robots to analyze and comprehend human language, enabling them to carry out repetitive activities without human intervention. Examples include machine translation, summarization, ticket classification, and spell check. Natural language processing (NLP) is the ability of a computer to analyze and understand human language. NLP is a subset of artificial intelligence focused on human language and is closely related to computational linguistics, which focuses more on statistical and formal approaches to understanding language. NLP is typically used for document summarization, text classification, topic detection and tracking, machine translation, speech recognition, and much more.               How NLP Works?NLP systems use machine learning algorithms to analyze large amounts of unstructured data and extract relevant information. The algorithms are trained to recognize patterns and make inferences based on those patterns. Here's how it works:  The user must input a sentence into the Natural Language Processing (NLP) system. The NLP system then breaks down the sentence into smaller parts of words, called tokens, and converts audio to text. Then, the machine processes the text data and creates an audio file based on the processed data.  The machine responds with an audio file based on processed text data.               NLP Market Size & GrowthArtificial intelligence stands to be the next big thing in the tech world. With its ability to understand human behavior and act accordingly, AI has already become an integral part of our daily lives. The use of AI has evolved, with the latest wave being natural language processing (NLP). The global NLP market size is valued at USD 15.7 billion in 2022 and is expected to grow at a CAGR of more than 25% over the forecast period 2022-2027. The market is projected to reach 49.4 billion USD by 2027 at a CAGR of 25.7%.\", metadata={'source': 'https://www.shaip.com/blog/what-is-nlp-how-it-works-benefits-challenges-examples/', 'title': 'What is NLP? How it Works, Benefits, Challenges, Examples | Shaip', 'description': 'Natural Language Processing (NLP) is a subfield of artificial intelligence (AI). It enables robots to analyze and comprehend human language, enabling them to carry out repetitive activities without human intervention. Examples include machine translation, summarization, ticket classification, and spell check.', 'language': 'en-US'}),\n",
       " Document(page_content='Benefits of NLPIncreased documentation efficiency & accuracyAn NLP-generated document accurately summarizes any original text that humans can’t automatically generate. Also, it can carry out repetitive tasks such as analyzing large chunks of data to improve human efficiency.Capability to automatically create a summary of large & complex textual contentNatural processing language can be used for simple text mining tasks such as extracting facts from documents, analyzing sentiment, or identifying named entities. Natural processing can also be used for more complex tasks, such as understanding human behaviors and emotions.Enables personal assistants like Alexa to interpret spoken wordsNLP is useful for personal assistants such as Alexa, enabling the virtual assistant to understand spoken word commands. It also helps to quickly find relevant information from databases containing millions of documents in seconds.Enables the usage of chatbots for customer assistanceNLP can be used in chatbots and computer programs that use artificial intelligence to communicate with people through text or voice. The chatbot uses NLP to understand what the person is typing and respond appropriately. They also enable an organization to provide 24/7 customer support across multiple channels.Performing sentiment analysis is simplerSentiment Analysis is a process that involves analyzing a set of documents (such as reviews or tweets) concerning their attitude or emotional state (e.g., joy, anger). Sentiment analysis can be used for categorizing and classifying social media posts or other text into several categories: positive, negative, or neutral.Advanced analytics insights that were previously out of reachThe recent proliferation of sensors and Internet-connected devices has led to an explosion in the volume and variety of data generated. As a result, many organizations leverage NLP to make sense of their data to drive better business decisions.                  Challenges with NLPMisspellingsNatural languages are full of misspellings, typos, and inconsistencies in style. For example, the word “process” can be spelled as either “process” or “processing.” The problem is compounded when you add accents or other characters that are not in your dictionary.Language DifferencesAn English speaker might say, “I’m going to work tomorrow morning,” while an Italian speaker would say, “Domani Mattina vado al lavoro.” Even though these two sentences mean the same thing, NLP won’t understand the latter unless you translate it into English first.Innate BiasesNatural processing languages are based on human logic and data sets. In some situations, NLP systems may carry out the biases of their programmers or the data sets they use. It can also sometimes interpret the context differently due to innate biases, leading to inaccurate results.Words with Multiple MeaningsNLP is based on the assumption that language is precise and unambiguous. In reality, language is neither precise nor unambiguous. Many words have multiple meanings and can be used in different ways. For example, when we say “bark,” it can either be dog bark or tree bark.Uncertainty and False PositivesFalse positives occur when the NLP detects a term that should be understandable but can’t be replied to properly. The goal is to create an NLP system that can identify its limitations and clear up confusion by using questions or hints.Training DataOne of the biggest challenges with natural processing language is inaccurate training data. The more training data you have, the better your results will be. If you give the system incorrect or biased data, it will either learn the wrong things or learn inefficiently.', metadata={'source': 'https://www.shaip.com/blog/what-is-nlp-how-it-works-benefits-challenges-examples/', 'title': 'What is NLP? How it Works, Benefits, Challenges, Examples | Shaip', 'description': 'Natural Language Processing (NLP) is a subfield of artificial intelligence (AI). It enables robots to analyze and comprehend human language, enabling them to carry out repetitive activities without human intervention. Examples include machine translation, summarization, ticket classification, and spell check.', 'language': 'en-US'}),\n",
       " Document(page_content='NLP ExampleNatural Language translation i.e.,\\xa0 Google TranslateGoogle Translate is a free web-based translation service that supports over 100 languages and can translate your content automatically into these languages. The service has two modes: translation and translation suggestions.Word Processors i.e., MS Word & Grammarly use NLP to check grammatical errorsWord processors like MS Word and Grammarly use NLP to check text for grammatical errors. They do this by looking at the context of your sentence instead of just the words themselves.Speech recognition / IVR systems used in call centersSpeech recognition is an excellent example of how NLP can be used to improve the customer experience. It is a very common requirement for businesses to have IVR systems in place so that customers can interact with their products and services without having to speak to a live person. This allows them to handle more calls but also helps cut costs.Personal Digital Assistants i.e., Google Home, Siri, Cortana, & AlexaThe use of NLP has become more prevalent in recent years as technology has advanced. Personal Digital Assistant applications such as Google Home, Siri, Cortana, and Alexa have all been updated with NLP capabilities. These devices use NLP to understand human speech and respond appropriately.', metadata={'source': 'https://www.shaip.com/blog/what-is-nlp-how-it-works-benefits-challenges-examples/', 'title': 'What is NLP? How it Works, Benefits, Challenges, Examples | Shaip', 'description': 'Natural Language Processing (NLP) is a subfield of artificial intelligence (AI). It enables robots to analyze and comprehend human language, enabling them to carry out repetitive activities without human intervention. Examples include machine translation, summarization, ticket classification, and spell check.', 'language': 'en-US'}),\n",
       " Document(page_content='Use CasesIntelligent document processingThis use case involves extracting information from unstructured data, such as text and images. NLP can be used to identify the most relevant parts of those documents and present them in an organized manner.Sentiment AnalysisSentiment analysis is another way companies could use NLP in their operations. The software would analyze social media posts about a business or product to determine whether people think positively or negatively about it.Fraud detectionNLP can also be used for fraud detection by analyzing unstructured data like emails, phone calls, etc., and insurance databases to identify patterns or fraudulent activities based on keywords.Language detectionNLP is used for detecting the language of text documents or tweets. This could be useful for content moderation and content translation companies.Conversational AI / ChatbotA conversational AI (often called a chatbot) is an application that understands natural language input, either spoken or written, and performs a specified action. A conversational interface can be used for customer service, sales, or entertainment purposes.Text summarizationAn NLP system can be trained to summarize the text more readably than the original text. This is useful for articles and other lengthy texts where users may not want to spend time reading the entire article or document.Text TranslationNLP is used for automatically translating text from one language into another using deep learning methods like recurrent neural networks or convolutional neural networks.Question-AnsweringQuestion answering (QA) is a task in natural language processing (NLP) that receives a question as input and returns its answer. The simplest form of question answering is to find a matching entry in the knowledge base and return its contents, known as “document retrieval” or “information retrieval.”Named Entity RecognitionNamed entity recognition is a core capability in Natural Language Processing (NLP). It’s a process of extracting named entities from unstructured text into predefined categories. Examples of named entities include people, organizations, and locations.Social Media MonitoringSocial media monitoring tools can use NLP techniques to extract mentions of a brand, product, or service from social media posts. Once detected, these mentions can be analyzed for sentiment, engagement, and other metrics. This information can then inform marketing strategies or evaluate their effectiveness.Predictive TextThe predictive text uses NLP to predict what word users will type next based on what they have typed in their message. This reduces the number of keystrokes needed for users to complete their messages and improves their user experience by increasing the speed at which they can type and send messages.                Download Infographics                 PrevOlder Stories   Newer StoriesNext       Social Share                                                                 Talk to an Expert  First Name* Last Name* Email*  Phone*Company* Country*   Select CountryAfghanistanArgentinaAustraliaAustriaBahamasBahrainBangladeshBelarusBelgiumBhutanBoliviaBotswanaBrazilBrunei DarussalamBulgariaCambodiaCanadaChileChinaColombiaCongo, Democratic Republic of theCroatiaCzech RepublicDenmarkDominican RepublicEgyptEstoniaEthiopiaFinlandFranceGeorgiaGermanyGhanaGreeceHong KongHungaryIcelandIndiaIndonesiaIranIraqIrelandIsraelItalyJamaicaJapanJordanKenyaKuwaitLebanonLesothoLiberiaLibyaMadagascarMalawiMalaysiaMaldivesMauritiusMexicoMongoliaMoroccoMozambiqueMyanmarNepalNetherlandsNew ZealandNigeriaNorth KoreaNorwayOmanPakistanParaguayPhilippinesPolandPortugalQatarRomaniaRussiaSaudi ArabiaSingaporeSlovakiaSomaliaSouth AfricaSouth KoreaSpainSri LankaSwedenSwitzerlandTaiwanTanzaniaThailandTurkeyUgandaUkraineUnited Arab EmiratesUnited KingdomUnited StatesVenezuelaVietnamYemenZambiaZimbabweOther Country', metadata={'source': 'https://www.shaip.com/blog/what-is-nlp-how-it-works-benefits-challenges-examples/', 'title': 'What is NLP? How it Works, Benefits, Challenges, Examples | Shaip', 'description': 'Natural Language Processing (NLP) is a subfield of artificial intelligence (AI). It enables robots to analyze and comprehend human language, enabling them to carry out repetitive activities without human intervention. Examples include machine translation, summarization, ticket classification, and spell check.', 'language': 'en-US'}),\n",
       " Document(page_content='Comments*By registering, I agree with Shaip Privacy Policy and Terms of Service and provide my consent to receive B2B marketing communication from Shaip.CAPTCHA                    Download Free Book                                                                You May Also Like                 The Role Of Natural Language Processing (NLP) In Oncology                  Unstructured Text in Data Mining: Unlocking Insights in Document Processing                  What are NLP, NLU, and NLG, and Why should you know about them and their differences?                      AI Data ServicesData Annotation Data Collection Data De-Identification      SpecialityNLP Computer Vision Conversational AI          IndustryAutomotive AI Banking & Finance Retail      ProductsHealthcare AI ShaipCloud™ Platform          CompanyAbout Leadership Compliance CSR Press Room          ResourcesCase Study Buyer’s Guide Media Infographics Blogs Sample Datasets          Contact Us (US): (866) 473-5655 marketing@shaip.com vendors@shaip.com career@shaip.com Vendor Enrollment Form          LinkedIn Icon                  Facebook Icon      Youtube                               © 2018 – 2023 Shaip | All Rights Reserved           Privacy Policy Cookie Policy Terms of Service Disclaimer    Privacy Policy Cookie Policy Terms of Service Disclaimer               Manage Cookie Consent       To provide the best experiences, we use technologies like cookies to store and/or access device information. Consenting to these technologies will allow us to process data such as browsing behavior or unique IDs on this site. Not consenting or withdrawing consent, may adversely affect certain features and functions.      Functional    Functional          Always active              The technical storage or access is strictly necessary for the legitimate purpose of enabling the use of a specific service explicitly requested by the subscriber or user, or for the sole purpose of carrying out the transmission of a communication over an electronic communications network.      Preferences   Preferences        The technical storage or access is necessary for the legitimate purpose of storing preferences that are not requested by the subscriber or user.      Statistics   Statistics        The technical storage or access that is used exclusively for statistical purposes. The technical storage or access that is used exclusively for anonymous statistical purposes. Without a subpoena, voluntary compliance on the part of your Internet Service Provider, or additional records from a third party, information stored or retrieved for this purpose alone cannot usually be used to identify you.      Marketing   Marketing        The technical storage or access is required to create user profiles to send advertising, or to track the user on a website or across several websites for similar marketing purposes.      Manage options Manage services Manage {vendor_count} vendors Read more about these purposes    Accept Deny View preferences Save preferences View preferences   {title} {title} {title}      Manage Cookie Consent       To provide the best experiences, we use technologies like cookies to store and/or access device information. Consenting to these technologies will allow us to process data such as browsing behavior or unique IDs on this site. Not consenting or withdrawing consent, may adversely affect certain features and functions.      Functional    Functional          Always active              The technical storage or access is strictly necessary for the legitimate purpose of enabling the use of a specific service explicitly requested by the subscriber or user, or for the sole purpose of carrying out the transmission of a communication over an electronic communications network.      Preferences   Preferences        The technical storage or access is necessary for the legitimate purpose of storing preferences that are not requested by the subscriber or user.      Statistics   Statistics', metadata={'source': 'https://www.shaip.com/blog/what-is-nlp-how-it-works-benefits-challenges-examples/', 'title': 'What is NLP? How it Works, Benefits, Challenges, Examples | Shaip', 'description': 'Natural Language Processing (NLP) is a subfield of artificial intelligence (AI). It enables robots to analyze and comprehend human language, enabling them to carry out repetitive activities without human intervention. Examples include machine translation, summarization, ticket classification, and spell check.', 'language': 'en-US'}),\n",
       " Document(page_content='Preferences        The technical storage or access is necessary for the legitimate purpose of storing preferences that are not requested by the subscriber or user.      Statistics   Statistics        The technical storage or access that is used exclusively for statistical purposes. The technical storage or access that is used exclusively for anonymous statistical purposes. Without a subpoena, voluntary compliance on the part of your Internet Service Provider, or additional records from a third party, information stored or retrieved for this purpose alone cannot usually be used to identify you.      Marketing   Marketing        The technical storage or access is required to create user profiles to send advertising, or to track the user on a website or across several websites for similar marketing purposes.      Manage options Manage services Manage {vendor_count} vendors Read more about these purposes    Accept Deny View preferences Save preferences View preferences   {title} {title} {title}    Manage consent Manage consent', metadata={'source': 'https://www.shaip.com/blog/what-is-nlp-how-it-works-benefits-challenges-examples/', 'title': 'What is NLP? How it Works, Benefits, Challenges, Examples | Shaip', 'description': 'Natural Language Processing (NLP) is a subfield of artificial intelligence (AI). It enables robots to analyze and comprehend human language, enabling them to carry out repetitive activities without human intervention. Examples include machine translation, summarization, ticket classification, and spell check.', 'language': 'en-US'})]"
      ]
     },
     "execution_count": 8,
     "metadata": {},
     "output_type": "execute_result"
    }
   ],
   "source": [
    "data"
   ]
  },
  {
   "cell_type": "code",
   "execution_count": 9,
   "id": "76d585c1",
   "metadata": {},
   "outputs": [
    {
     "data": {
      "text/plain": [
       "7"
      ]
     },
     "execution_count": 9,
     "metadata": {},
     "output_type": "execute_result"
    }
   ],
   "source": [
    "len(data)"
   ]
  },
  {
   "cell_type": "code",
   "execution_count": 10,
   "id": "fc06951f",
   "metadata": {},
   "outputs": [],
   "source": [
    "from opensearchpy import OpenSearch\n",
    "client=OpenSearch(hosts=[{\"host\":\"localhost\",\"port\":9200}],\n",
    "                http_auth=(\"admin\",\"admin\"),\n",
    "                use_ssl=False,\n",
    "                )"
   ]
  },
  {
   "cell_type": "code",
   "execution_count": 11,
   "id": "9c6b6c9f",
   "metadata": {},
   "outputs": [],
   "source": [
    "import os\n",
    "os.environ[\"OPENAI_API_KEY\"] = \"please give your api key, create using gmail account\"\n"
   ]
  },
  {
   "cell_type": "code",
   "execution_count": 12,
   "id": "aec9a2eb",
   "metadata": {},
   "outputs": [],
   "source": [
    "knowledge_index_name='websitedata'"
   ]
  },
  {
   "cell_type": "code",
   "execution_count": 13,
   "id": "50f29d0a",
   "metadata": {},
   "outputs": [],
   "source": [
    "embeddings = OpenAIEmbeddings()\n",
    "vectorstore=OpenSearchVectorSearch.from_documents(\n",
    "                data, embeddings, opensearch_url=\"http://localhost:9200\", index_name=knowledge_index_name\n",
    "            )"
   ]
  },
  {
   "cell_type": "code",
   "execution_count": null,
   "id": "e07d4423",
   "metadata": {},
   "outputs": [],
   "source": []
  },
  {
   "cell_type": "code",
   "execution_count": 14,
   "id": "34b2a510",
   "metadata": {},
   "outputs": [
    {
     "name": "stderr",
     "output_type": "stream",
     "text": [
      "C:\\Users\\HP\\anaconda3\\lib\\site-packages\\langchain\\llms\\openai.py:169: UserWarning: You are trying to use a chat model. This way of initializing it is no longer supported. Instead, please use: `from langchain.chat_models import ChatOpenAI`\n",
      "  warnings.warn(\n",
      "C:\\Users\\HP\\anaconda3\\lib\\site-packages\\langchain\\llms\\openai.py:687: UserWarning: You are trying to use a chat model. This way of initializing it is no longer supported. Instead, please use: `from langchain.chat_models import ChatOpenAI`\n",
      "  warnings.warn(\n"
     ]
    }
   ],
   "source": [
    "\n",
    "combine_prompt_template = \"\"\"\n",
    "You are intelligent Bot. You should answer questions only about the given website data.\n",
    "If you don't know the answer, just say \"Sorry, I don't know.\" Don't try to make up an answer.\n",
    "\n",
    "Say \"Hello!, I'm intelligent Bot. How can I help you today?\" \n",
    "if the user welcomes you with \"hi,\" \"hello,\" \"good morning,\" \"good evening,\" or any other greeting.\n",
    "QUESTION: {question}\n",
    "{summaries}\n",
    "\"\"\"\n",
    "COMBINE_PROMPT = PromptTemplate(\n",
    "    template=combine_prompt_template, input_variables=[\"summaries\", \"question\"]\n",
    ")\n",
    "# model \n",
    "# open ai model , default model is davinic 003\n",
    "llm = OpenAI(temperature=0,model_name='gpt-3.5-turbo-0613')\n",
    "\n",
    "# CONDENSE_QUESTION_PROMPT t will generate the query based on  the summary of user query and the chat history usinh llm  model \n",
    "question_generator = LLMChain(llm=llm, prompt=CONDENSE_QUESTION_PROMPT)\n",
    "\n",
    "doc_chain = load_qa_with_sources_chain(llm, chain_type=\"stuff\",prompt=COMBINE_PROMPT)\n",
    "\n",
    "#Chain for chatting with an  vector store index.\n",
    "chain = ConversationalRetrievalChain(\n",
    "    retriever=vectorstore.as_retriever(search_type=\"similarity\", search_kwargs={\"k\":3}),\n",
    "    question_generator=question_generator,\n",
    "    combine_docs_chain=doc_chain,return_source_documents=True)\n"
   ]
  },
  {
   "cell_type": "code",
   "execution_count": 15,
   "id": "4d78cfc9",
   "metadata": {},
   "outputs": [],
   "source": [
    "vectordbkwargs = {\"search_distance\": 0.8}\n",
    "def generate_response(chain, question, chat_history):\n",
    "    try:\n",
    "        # If chat_history is empty, pass an empty list\n",
    "        if not chat_history:\n",
    "            result = chain({\"question\": question, \"chat_history\": [],\"vectordbkwargs\": vectordbkwargs})\n",
    "        # If chat_history has only one item, pass the single item as previous chat history\n",
    "        elif len(chat_history) == 1:\n",
    "            result = chain({\"question\": question, \"chat_history\": chat_history,\"vectordbkwargs\": vectordbkwargs})\n",
    "        # If chat_history has more than one item, pass the last two items as previous chat history\n",
    "        else:\n",
    "            result = chain({\"question\": question, \"chat_history\": chat_history[-2:],\"vectordbkwargs\": vectordbkwargs})\n",
    "        # Add the question and answer to the chat history\n",
    "        chat_history.append((question, result[\"answer\"]))\n",
    "        # Return the answer\n",
    "        return result\n",
    "    except Exception as e:\n",
    "        print(f\"An error occurred: {e}\")\n",
    "        return \"Sorry, I don't know.\"\n",
    "    "
   ]
  },
  {
   "cell_type": "code",
   "execution_count": 16,
   "id": "01248759",
   "metadata": {},
   "outputs": [],
   "source": [
    "chat_history=[]\n",
    "query=\"what is  NLP\"\n",
    "result=generate_response(chain, query, chat_history)\n"
   ]
  },
  {
   "cell_type": "code",
   "execution_count": 17,
   "id": "dfbb493f",
   "metadata": {},
   "outputs": [
    {
     "data": {
      "text/plain": [
       "'NLP stands for Natural Language Processing. It is a subfield of artificial intelligence (AI) that focuses on enabling computers to analyze and understand human language. NLP allows robots and machines to comprehend and interpret human language, enabling them to perform tasks without human intervention. Some examples of NLP applications include machine translation, summarization, ticket classification, and spell check. NLP systems use machine learning algorithms to analyze large amounts of unstructured data and extract relevant information. These algorithms are trained to recognize patterns and make inferences based on those patterns.'"
      ]
     },
     "execution_count": 17,
     "metadata": {},
     "output_type": "execute_result"
    }
   ],
   "source": [
    "result['answer']"
   ]
  },
  {
   "cell_type": "code",
   "execution_count": null,
   "id": "81edce34",
   "metadata": {},
   "outputs": [],
   "source": []
  },
  {
   "cell_type": "code",
   "execution_count": null,
   "id": "0588a4b7",
   "metadata": {},
   "outputs": [],
   "source": []
  },
  {
   "cell_type": "code",
   "execution_count": null,
   "id": "09f986c6",
   "metadata": {},
   "outputs": [],
   "source": []
  }
 ],
 "metadata": {
  "kernelspec": {
   "display_name": "Python 3 (ipykernel)",
   "language": "python",
   "name": "python3"
  },
  "language_info": {
   "codemirror_mode": {
    "name": "ipython",
    "version": 3
   },
   "file_extension": ".py",
   "mimetype": "text/x-python",
   "name": "python",
   "nbconvert_exporter": "python",
   "pygments_lexer": "ipython3",
   "version": "3.9.12"
  }
 },
 "nbformat": 4,
 "nbformat_minor": 5
}
